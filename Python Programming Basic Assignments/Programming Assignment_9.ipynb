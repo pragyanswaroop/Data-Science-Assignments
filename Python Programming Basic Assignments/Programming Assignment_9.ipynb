{
 "cells": [
  {
   "cell_type": "markdown",
   "metadata": {},
   "source": [
    "# Programming Assignment_9"
   ]
  },
  {
   "cell_type": "markdown",
   "metadata": {},
   "source": [
    "Write a Python program to check if the given number is a Disarium Number?"
   ]
  },
  {
   "cell_type": "code",
   "execution_count": 9,
   "metadata": {},
   "outputs": [
    {
     "name": "stdout",
     "output_type": "stream",
     "text": [
      "Enter a number to check for Disarium: 89\n",
      "Disarium\n"
     ]
    }
   ],
   "source": [
    "def is_disarium(num):\n",
    "    x=num\n",
    "    sum=0\n",
    "    i=len(str(num))\n",
    "    while x>0:\n",
    "        sum+=(x%10)**i\n",
    "        x=int(x/10)\n",
    "        i-=1\n",
    "    if sum==num:\n",
    "        return True\n",
    "    else:\n",
    "        return False\n",
    "\n",
    "if is_disarium(int(input(\"Enter a number to check for Disarium: \"))):\n",
    "    print(\"Disarium\")\n",
    "else:\n",
    "    print(\"Not Disarium\")"
   ]
  },
  {
   "cell_type": "markdown",
   "metadata": {},
   "source": [
    "Write a Python program to print all disarium numbers between 1 to 100?"
   ]
  },
  {
   "cell_type": "code",
   "execution_count": 10,
   "metadata": {},
   "outputs": [
    {
     "name": "stdout",
     "output_type": "stream",
     "text": [
      "1\n",
      "2\n",
      "3\n",
      "4\n",
      "5\n",
      "6\n",
      "7\n",
      "8\n",
      "9\n",
      "89\n"
     ]
    }
   ],
   "source": [
    "def is_disarium(num):\n",
    "    x=num\n",
    "    sum=0\n",
    "    i=len(str(num))\n",
    "    while x>0:\n",
    "        sum+=(x%10)**i\n",
    "        x=int(x/10)\n",
    "        i-=1\n",
    "    if sum==num:\n",
    "        return True\n",
    "    else:\n",
    "        return False\n",
    "for i in range(1,101):\n",
    "    if is_disarium(i):\n",
    "        print(i)"
   ]
  },
  {
   "cell_type": "markdown",
   "metadata": {},
   "source": [
    "Write a Python program to check if the given number is Happy Number?"
   ]
  },
  {
   "cell_type": "code",
   "execution_count": 4,
   "metadata": {},
   "outputs": [
    {
     "name": "stdout",
     "output_type": "stream",
     "text": [
      "Enter a number to check for Happy Number: 13\n",
      "Happy\n"
     ]
    }
   ],
   "source": [
    "def is_happy(num):\n",
    "    x=num\n",
    "    seen_no=[0]\n",
    "    while x!=1 and x not in seen_no:\n",
    "        sum=0\n",
    "        seen_no.append(x)\n",
    "        for i in range(len(str(x))):\n",
    "            sum+=(x%10)**2\n",
    "            x=int(x/10)\n",
    "        x=sum\n",
    "    if x==1:\n",
    "        return True\n",
    "    else:\n",
    "        return False\n",
    "\n",
    "if is_happy(int(input(\"Enter a number to check for Happy Number: \"))):\n",
    "    print(\"Happy\")\n",
    "else:\n",
    "    print(\"Not Happy\")\n",
    "    "
   ]
  },
  {
   "cell_type": "markdown",
   "metadata": {},
   "source": [
    "Write a Python program to print all happy numbers between 1 and 100?"
   ]
  },
  {
   "cell_type": "code",
   "execution_count": 2,
   "metadata": {},
   "outputs": [
    {
     "name": "stdout",
     "output_type": "stream",
     "text": [
      "1\n",
      "7\n",
      "10\n",
      "13\n",
      "19\n",
      "23\n",
      "28\n",
      "31\n",
      "32\n",
      "44\n",
      "49\n",
      "68\n",
      "70\n",
      "79\n",
      "82\n",
      "86\n",
      "91\n",
      "94\n",
      "97\n",
      "100\n"
     ]
    }
   ],
   "source": [
    "def is_happy(num):\n",
    "    x=num\n",
    "    seen_no=[0]\n",
    "    while x!=1 and x not in seen_no:\n",
    "        sum=0\n",
    "        seen_no.append(x)\n",
    "        for i in range(len(str(x))):\n",
    "            sum+=(x%10)**2\n",
    "            x=int(x/10)\n",
    "        x=sum\n",
    "    if x==1:\n",
    "        return True\n",
    "    else:\n",
    "        return False\n",
    "\n",
    "for i in range(1,101):\n",
    "    if is_happy(i):\n",
    "        print(i)"
   ]
  },
  {
   "cell_type": "markdown",
   "metadata": {},
   "source": [
    "Write a Python program to determine whether the given number is a Harshad Number?"
   ]
  },
  {
   "cell_type": "code",
   "execution_count": 8,
   "metadata": {},
   "outputs": [
    {
     "name": "stdout",
     "output_type": "stream",
     "text": [
      "Enter a number to check for Harshad Number: 41\n",
      "Not Harshad\n"
     ]
    }
   ],
   "source": [
    "def is_harshad(num):\n",
    "    x=num\n",
    "    sum=0\n",
    "    for i in range(len(str(x))):\n",
    "        sum+=(x%10)\n",
    "        x=int(x/10)\n",
    "    return(num%sum==0)\n",
    "    \n",
    "if is_harshad(int(input(\"Enter a number to check for Harshad Number: \"))):\n",
    "    print(\"Harshad\")\n",
    "else:\n",
    "    print(\"Not Harshad\")"
   ]
  },
  {
   "cell_type": "markdown",
   "metadata": {},
   "source": [
    "Write a Python program to print all pronic numbers between 1 and 100?"
   ]
  },
  {
   "cell_type": "code",
   "execution_count": 11,
   "metadata": {},
   "outputs": [
    {
     "name": "stdout",
     "output_type": "stream",
     "text": [
      "2\n",
      "6\n",
      "12\n",
      "20\n",
      "30\n",
      "42\n",
      "56\n",
      "72\n",
      "90\n"
     ]
    }
   ],
   "source": [
    "def is_pronic(num):\n",
    "    x=int(num**(0.5))\n",
    "    return x*(x+1)==num\n",
    "for i in range(1,101):\n",
    "    if is_pronic(i):\n",
    "        print(i)"
   ]
  }
 ],
 "metadata": {
  "kernelspec": {
   "display_name": "Python 3",
   "language": "python",
   "name": "python3"
  },
  "language_info": {
   "codemirror_mode": {
    "name": "ipython",
    "version": 3
   },
   "file_extension": ".py",
   "mimetype": "text/x-python",
   "name": "python",
   "nbconvert_exporter": "python",
   "pygments_lexer": "ipython3",
   "version": "3.8.3"
  }
 },
 "nbformat": 4,
 "nbformat_minor": 4
}
