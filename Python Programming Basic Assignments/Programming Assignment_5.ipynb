{
 "cells": [
  {
   "cell_type": "markdown",
   "metadata": {},
   "source": [
    "# Programming Assignment_5"
   ]
  },
  {
   "cell_type": "markdown",
   "metadata": {},
   "source": [
    "1.Write a Python Program to Find LCM?"
   ]
  },
  {
   "cell_type": "code",
   "execution_count": 17,
   "metadata": {},
   "outputs": [
    {
     "name": "stdout",
     "output_type": "stream",
     "text": [
      "Enter the numbers separated by ',' for LCM: 5,7\n",
      "35.0\n"
     ]
    }
   ],
   "source": [
    "x,y =[int(i) for i in input(\"Enter the numbers separated by ',' for LCM: \").split(\",\")]\n",
    "a,b=x,y\n",
    "while(y>0):\n",
    "    x,y=y,x%y\n",
    "print((a*b)/x)"
   ]
  },
  {
   "cell_type": "markdown",
   "metadata": {},
   "source": [
    "2.Write a Python Program to Find HCF?"
   ]
  },
  {
   "cell_type": "code",
   "execution_count": 16,
   "metadata": {},
   "outputs": [
    {
     "name": "stdout",
     "output_type": "stream",
     "text": [
      "Enter the numbers separated by ',' for HCF: 39,15\n",
      "3\n"
     ]
    }
   ],
   "source": [
    "x,y =[int(i) for i in input(\"Enter the numbers separated by ',' for HCF: \").split(\",\")]\n",
    "while(y>0):\n",
    "    x,y=y,x%y\n",
    "print(x)"
   ]
  },
  {
   "cell_type": "markdown",
   "metadata": {},
   "source": [
    "3.Write a Python Program to Convert Decimal to Binary, Octal and Hexadecimal?"
   ]
  },
  {
   "cell_type": "code",
   "execution_count": 9,
   "metadata": {},
   "outputs": [
    {
     "name": "stdout",
     "output_type": "stream",
     "text": [
      "Enter decimal number to convert to Binary, Octal and Hexadecimal: 56\n",
      "Binary of  56  is  0b111000\n",
      "Octal of  56  is  0o70\n",
      "Hex of  56  is  0x38\n"
     ]
    }
   ],
   "source": [
    "num=int(input(\"Enter decimal number to convert to Binary, Octal and Hexadecimal: \"))\n",
    "print(\"Binary of \",num,\" is \",bin(num))\n",
    "print(\"Octal of \",num,\" is \",oct(num))\n",
    "print(\"Hex of \",num,\" is \",hex(num))"
   ]
  },
  {
   "cell_type": "markdown",
   "metadata": {},
   "source": [
    "4.Write a Python Program To Find ASCII value of a character?"
   ]
  },
  {
   "cell_type": "code",
   "execution_count": 10,
   "metadata": {},
   "outputs": [
    {
     "name": "stdout",
     "output_type": "stream",
     "text": [
      "Enter the character to find ASCII value: A\n",
      "65\n"
     ]
    }
   ],
   "source": [
    "ch=input(\"Enter the character to find ASCII value: \")\n",
    "print(ord(ch))"
   ]
  },
  {
   "cell_type": "markdown",
   "metadata": {},
   "source": [
    "5.Write a Python Program to Make a Simple Calculator with 4 basic mathematical operations?"
   ]
  },
  {
   "cell_type": "code",
   "execution_count": 11,
   "metadata": {},
   "outputs": [
    {
     "name": "stdout",
     "output_type": "stream",
     "text": [
      "Enter the operator: \n",
      "            '+' for Addition\n",
      "            '-' for Substraction\n",
      "            '*' for Multiplication\n",
      "            '/' for Division\n",
      "            +\n",
      "Enter the operands separated by ',': 3,7\n",
      "10\n"
     ]
    }
   ],
   "source": [
    "op=input(\"\"\"Enter the operator: \n",
    "            '+' for Addition\n",
    "            '-' for Substraction\n",
    "            '*' for Multiplication\n",
    "            '/' for Division\n",
    "            \"\"\")\n",
    "a,b =[int(i) for i in input(\"Enter the operands separated by ',': \").split(\",\")]\n",
    "if op==\"*\":\n",
    "    print(a*b)\n",
    "elif op==\"+\":\n",
    "    print(a+b)\n",
    "elif op==\"-\":\n",
    "    print(a-b)\n",
    "elif op==\"/\":\n",
    "    print(a/b)\n",
    "else:\n",
    "    print(\"Invalid operator\")"
   ]
  }
 ],
 "metadata": {
  "kernelspec": {
   "display_name": "Python 3",
   "language": "python",
   "name": "python3"
  },
  "language_info": {
   "codemirror_mode": {
    "name": "ipython",
    "version": 3
   },
   "file_extension": ".py",
   "mimetype": "text/x-python",
   "name": "python",
   "nbconvert_exporter": "python",
   "pygments_lexer": "ipython3",
   "version": "3.8.3"
  }
 },
 "nbformat": 4,
 "nbformat_minor": 4
}
