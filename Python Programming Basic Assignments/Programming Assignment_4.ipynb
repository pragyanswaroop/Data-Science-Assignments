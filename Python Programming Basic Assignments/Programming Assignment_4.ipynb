{
 "cells": [
  {
   "cell_type": "markdown",
   "metadata": {},
   "source": [
    "# Programming Assignment_4"
   ]
  },
  {
   "cell_type": "markdown",
   "metadata": {},
   "source": [
    "1.Write a Python Program to Find the Factorial of a Number?"
   ]
  },
  {
   "cell_type": "code",
   "execution_count": 2,
   "metadata": {},
   "outputs": [
    {
     "name": "stdout",
     "output_type": "stream",
     "text": [
      "Enter a Positive number to find Factorial: 5\n",
      "120\n"
     ]
    }
   ],
   "source": [
    "num=int(input(\"Enter a Positive number to find Factorial: \"))\n",
    "fact=1\n",
    "for i in range(2,num+1):\n",
    "    fact=fact*i\n",
    "print(fact)"
   ]
  },
  {
   "cell_type": "markdown",
   "metadata": {},
   "source": [
    "2.Write a Python Program to Display the multiplication Table?"
   ]
  },
  {
   "cell_type": "code",
   "execution_count": 3,
   "metadata": {},
   "outputs": [
    {
     "name": "stdout",
     "output_type": "stream",
     "text": [
      "Enter a number to display table: 5\n",
      "5  x  1  =  5\n",
      "5  x  2  =  10\n",
      "5  x  3  =  15\n",
      "5  x  4  =  20\n",
      "5  x  5  =  25\n",
      "5  x  6  =  30\n",
      "5  x  7  =  35\n",
      "5  x  8  =  40\n",
      "5  x  9  =  45\n",
      "5  x  10  =  50\n"
     ]
    }
   ],
   "source": [
    "num=int(input(\"Enter a number to display table: \"))\n",
    "for i in range(1,11):\n",
    "    print(num,\" x \", i, \" = \",num*i)"
   ]
  },
  {
   "cell_type": "markdown",
   "metadata": {},
   "source": [
    "3.Write a Python Program to Print the Fibonacci sequence?"
   ]
  },
  {
   "cell_type": "code",
   "execution_count": 21,
   "metadata": {},
   "outputs": [
    {
     "name": "stdout",
     "output_type": "stream",
     "text": [
      "Enter a number less than which fibonacci sequence is to be printed: 26\n",
      "1\n",
      "1\n",
      "2\n",
      "3\n",
      "5\n",
      "8\n",
      "13\n",
      "21\n"
     ]
    }
   ],
   "source": [
    "num=int(input(\"Enter a number less than which fibonacci sequence is to be printed: \"))\n",
    "1,1,2,3,5,8,13\n",
    "num1 =1\n",
    "num2 =1\n",
    "while num1<num:\n",
    "    print(num1)\n",
    "    num1,num2=num2,num1+num2"
   ]
  },
  {
   "cell_type": "markdown",
   "metadata": {},
   "source": [
    "4.Write a Python Program to Check Armstrong Number?"
   ]
  },
  {
   "cell_type": "code",
   "execution_count": 20,
   "metadata": {},
   "outputs": [
    {
     "name": "stdout",
     "output_type": "stream",
     "text": [
      "Enter a number to Check for Armstrong Number: 153\n",
      "Armstrong\n"
     ]
    }
   ],
   "source": [
    "number=int(input(\"Enter a number to Check for Armstrong Number: \"))\n",
    "num=number\n",
    "length=len(str(num))\n",
    "total=0\n",
    "for i in range(length):\n",
    "    total+=(num%10)**length\n",
    "    num=int(num/10)\n",
    "if total==number:\n",
    "    print(\"Armstrong\")\n",
    "else:\n",
    "    print(\"Not Armstrong\")"
   ]
  },
  {
   "cell_type": "markdown",
   "metadata": {},
   "source": [
    "5.Write a Python Program to Find Armstrong Number in an Interval?"
   ]
  },
  {
   "cell_type": "code",
   "execution_count": 27,
   "metadata": {},
   "outputs": [
    {
     "name": "stdout",
     "output_type": "stream",
     "text": [
      "Enter start and end of interval separated by ',' to find armstrong No.: 1,10000\n",
      "1\n",
      "2\n",
      "3\n",
      "4\n",
      "5\n",
      "6\n",
      "7\n",
      "8\n",
      "9\n",
      "153\n",
      "370\n",
      "371\n",
      "407\n",
      "1634\n",
      "8208\n",
      "9474\n"
     ]
    }
   ],
   "source": [
    "start, end=[int(i) for i in input(\"Enter start and end of interval separated by ',' to find armstrong No.: \").split(\",\")]\n",
    "for number in range(start,end):\n",
    "    num=number\n",
    "    length=len(str(num))\n",
    "    total=0\n",
    "    for i in range(length):\n",
    "        total+=(num%10)**length\n",
    "        num=int(num/10)\n",
    "    if total==number:\n",
    "        print(number)"
   ]
  },
  {
   "cell_type": "markdown",
   "metadata": {},
   "source": [
    "6.Write a Python Program to Find the Sum of Natural Numbers?"
   ]
  },
  {
   "cell_type": "code",
   "execution_count": 35,
   "metadata": {},
   "outputs": [
    {
     "name": "stdout",
     "output_type": "stream",
     "text": [
      "Enter a value of n for sum of n natural number: 7\n",
      "28\n"
     ]
    }
   ],
   "source": [
    "num=int(input(\"Enter a value of n for sum of n natural number: \"))\n",
    "sum=num*(num+1)/2\n",
    "print(int(sum))"
   ]
  }
 ],
 "metadata": {
  "kernelspec": {
   "display_name": "Python 3",
   "language": "python",
   "name": "python3"
  },
  "language_info": {
   "codemirror_mode": {
    "name": "ipython",
    "version": 3
   },
   "file_extension": ".py",
   "mimetype": "text/x-python",
   "name": "python",
   "nbconvert_exporter": "python",
   "pygments_lexer": "ipython3",
   "version": "3.8.3"
  }
 },
 "nbformat": 4,
 "nbformat_minor": 4
}
